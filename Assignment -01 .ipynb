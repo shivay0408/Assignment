{
 "cells": [
  {
   "cell_type": "code",
   "execution_count": 1,
   "id": "45d58c8c-f30c-4e6a-adfa-c257feedc4e9",
   "metadata": {},
   "outputs": [],
   "source": [
    "# Question -01\n",
    "#ans- \n",
    "# (i) String\n",
    "my_string = \"Hello, world!\"\n",
    "\n",
    "# (ii) List\n",
    "my_list = [1, 2, 3, 4, 5]\n",
    "\n",
    "# (iii) Float\n",
    "my_float = 3.14\n",
    "\n",
    "# (iv) Tuple\n",
    "my_tuple = (1, 2, 3, 4, 5)\n"
   ]
  },
  {
   "cell_type": "code",
   "execution_count": 2,
   "id": "177b42c0-84f1-4cb5-9626-499a46105802",
   "metadata": {},
   "outputs": [
    {
     "ename": "SyntaxError",
     "evalue": "invalid syntax (992433426.py, line 4)",
     "output_type": "error",
     "traceback": [
      "\u001b[0;36m  Cell \u001b[0;32mIn[2], line 4\u001b[0;36m\u001b[0m\n\u001b[0;31m    (i) 'var1 = ‘ ‘':\u001b[0m\n\u001b[0m        ^\u001b[0m\n\u001b[0;31mSyntaxError\u001b[0m\u001b[0;31m:\u001b[0m invalid syntax\n"
     ]
    }
   ],
   "source": [
    "#Question No. 02\n",
    "#Ans- \n",
    "\n",
    "(i) 'var1 = ‘ ‘':\n",
    "\n",
    "#This variable var1 contains a single space character within single quotes.\n",
    "(ii) 'var2 = ‘[ DS , ML , Python]’':\n",
    "\n",
    "#This variable var2 contains a string with square brackets and comma-separated values. However, the values are not enclosed in quotes, so it's considered as a string, not a list.\n",
    "(iii) 'var3 = [ ‘DS’ , ’ML’ , ‘Python’ ]':\n",
    "\n",
    "#This variable var3 contains a list with string elements. The elements are enclosed in single quotes.\n",
    "(iv) 'var4 = 1':\n",
    "\n",
    "#This variable var4 contains an integer value, specifically the number 1."
   ]
  },
  {
   "cell_type": "code",
   "execution_count": null,
   "id": "553113ee-8c2a-4403-bcd3-5dcc301eb318",
   "metadata": {},
   "outputs": [],
   "source": [
    "# question No. 03 \n",
    "#Ans.-\n",
    "\n",
    "(i) / (Division Operator):\n",
    "    #ex-\n",
    "    result = 10 / 3\n",
    "print(result) \n",
    "#ex.- \n",
    "(ii) % (Modulo Operator):\n",
    "    \n",
    "    remainder = 10 % 3\n",
    "print(remainder)\n",
    "\n",
    "(iii)The modulo operator %\n",
    "#ex.- \n",
    "remainder = 10 % 3\n",
    "print(remainder)  \n",
    "\n",
    "(iv) // (Floor Division Operator):\n",
    "    #ex.- \n",
    "    result = 10 // 3\n",
    "print(result)  \n",
    "\n",
    "(V) ** (Exponentiation Operator):\n",
    "    # ex.- \n",
    "    result = 2 ** 3\n",
    "print(result)  \n",
    "\n",
    "\n",
    "\n",
    "\n",
    "\n"
   ]
  },
  {
   "cell_type": "code",
   "execution_count": 3,
   "id": "e394f778-435c-439f-885a-62805ce9bc6f",
   "metadata": {},
   "outputs": [
    {
     "name": "stdout",
     "output_type": "stream",
     "text": [
      "Element: 10, Data Type: <class 'int'>\n",
      "Element: hello, Data Type: <class 'str'>\n",
      "Element: 3.14, Data Type: <class 'float'>\n",
      "Element: True, Data Type: <class 'bool'>\n",
      "Element: [1, 2, 3], Data Type: <class 'list'>\n",
      "Element: {'a': 1, 'b': 2}, Data Type: <class 'dict'>\n",
      "Element: (4, 5), Data Type: <class 'tuple'>\n",
      "Element: None, Data Type: <class 'NoneType'>\n",
      "Element: world, Data Type: <class 'str'>\n",
      "Element: False, Data Type: <class 'bool'>\n"
     ]
    }
   ],
   "source": [
    "# Question No. 04 \n",
    "# Ans- \n",
    "my_list = [10, \"hello\", 3.14, True, [1, 2, 3], {'a': 1, 'b': 2}, (4, 5), None, \"world\", False]\n",
    "\n",
    "for element in my_list:\n",
    "    print(f\"Element: {element}, Data Type: {type(element)}\")\n"
   ]
  },
  {
   "cell_type": "code",
   "execution_count": null,
   "id": "e2cc720a-cc51-4210-a379-14334290f71a",
   "metadata": {},
   "outputs": [],
   "source": [
    "# Question No.05\n",
    "#Ans.-\n",
    "\n",
    "A = int(input(\"Enter the value of A: \"))\n",
    "B = int(input(\"Enter the value of B: \"))\n",
    "while A % B == 0:\n",
    "    A = A // B\n",
    "    count += 1\n",
    "if count > 0:\n",
    "    print(f\"{A} is divisible by {B} {count} times.\")\n",
    "else:\n",
    "    print(f\"{A} is not divisible by {B}.\")\n"
   ]
  },
  {
   "cell_type": "code",
   "execution_count": null,
   "id": "93e75b46-a0db-4171-bf8e-68b52bb9453c",
   "metadata": {},
   "outputs": [],
   "source": [
    "# Question No. 06 \n",
    "# Ans.- \n",
    "\n",
    "my_list = [i for i in range(1, 26)]\n",
    "\n",
    "for num in my_list:\n",
    "\n",
    "    if num % 3 == 0:\n",
    "        print(f\"{num} is divisible by 3.\")\n",
    "    else:\n",
    "        print(f\"{num} is not divisible by 3.\")\n"
   ]
  },
  {
   "cell_type": "code",
   "execution_count": null,
   "id": "2bc3bbe8-d68b-4b30-b342-9021ee21b0d7",
   "metadata": {},
   "outputs": [],
   "source": [
    "# Question No. 07\n",
    "# Ans.- \n",
    "#Mutable data types:\n",
    "\n",
    "#Mutable data types allow their values to be modified after creation.\n",
    "#This means you can change the elements or contents of the object without creating a new object.\n",
    "#Examples of mutable data types include lists, dictionaries, and sets in Python.\n",
    "# EX.- \n",
    "my_list = [1, 2, 3]\n",
    "my_list[0] = 4\n",
    "print(my_list)  \n",
    "\n",
    "#Immutable data types:\n",
    "\n",
    "#Immutable data types, on the other hand, do not allow their values to be changed after creation.\n",
    "#\n"
   ]
  }
 ],
 "metadata": {
  "kernelspec": {
   "display_name": "Python 3 (ipykernel)",
   "language": "python",
   "name": "python3"
  },
  "language_info": {
   "codemirror_mode": {
    "name": "ipython",
    "version": 3
   },
   "file_extension": ".py",
   "mimetype": "text/x-python",
   "name": "python",
   "nbconvert_exporter": "python",
   "pygments_lexer": "ipython3",
   "version": "3.10.8"
  }
 },
 "nbformat": 4,
 "nbformat_minor": 5
}
