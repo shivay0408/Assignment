{
 "cells": [
  {
   "cell_type": "code",
   "execution_count": 1,
   "id": "8f84c6ef-2a25-4dd2-bede-206b380df2ec",
   "metadata": {},
   "outputs": [
    {
     "ename": "IndentationError",
     "evalue": "unexpected indent (21442275.py, line 3)",
     "output_type": "error",
     "traceback": [
      "\u001b[0;36m  Cell \u001b[0;32mIn[1], line 3\u001b[0;36m\u001b[0m\n\u001b[0;31m    class Vehicle:\u001b[0m\n\u001b[0m    ^\u001b[0m\n\u001b[0;31mIndentationError\u001b[0m\u001b[0;31m:\u001b[0m unexpected indent\n"
     ]
    }
   ],
   "source": [
    "#Question No.-01\n",
    "#Ans.- \n",
    "    class Vehicle:\n",
    "    def __init__(self, name, color):\n",
    "        self.name = name\n",
    "        self.color = color\n",
    "\n",
    "    def display_info(self):\n",
    "        print(f\"Vehicle Name: {self.name}\")\n",
    "        print(f\"Vehicle Color: {self.color}\")\n",
    "\n",
    "\n",
    "class Car(Vehicle):\n",
    "    def seating_capacity(self, capacity):\n",
    "        return f\"{self.name} has a seating capacity of {capacity}.\"\n",
    "\n",
    "\n",
    "car1 = Car(\"Toyota Camry\", \"Blue\")\n",
    "car1.display_info()\n",
    "print(car1.seating_capacity(5))\n"
   ]
  },
  {
   "cell_type": "code",
   "execution_count": 2,
   "id": "09474664-d1cb-4727-81d7-40521f991773",
   "metadata": {},
   "outputs": [
    {
     "ename": "IndentationError",
     "evalue": "unexpected indent (1155222157.py, line 4)",
     "output_type": "error",
     "traceback": [
      "\u001b[0;36m  Cell \u001b[0;32mIn[2], line 4\u001b[0;36m\u001b[0m\n\u001b[0;31m    class Vehicle:\u001b[0m\n\u001b[0m    ^\u001b[0m\n\u001b[0;31mIndentationError\u001b[0m\u001b[0;31m:\u001b[0m unexpected indent\n"
     ]
    }
   ],
   "source": [
    "#Question No. -02 \n",
    "#Ans.-\n",
    "   \n",
    "    class Vehicle:\n",
    "    def __init__(self, name, color):\n",
    "        self.name = name\n",
    "        self.color = color\n",
    "\n",
    "    def display_info(self):\n",
    "        return f\"Vehicle Name: {self.name}\\nVehicle Color: {self.color}\"\n",
    "\n",
    "\n",
    "class Car(Vehicle):\n",
    "    def seating_capacity(self, capacity):\n",
    "        return f\"{self.name} has a seating capacity of {capacity}.\"\n",
    "\n",
    "\n",
    "# Example usage:\n",
    "car = Car(\"Toyota Camry\", \"Blue\")\n",
    "print(car.display_info())\n",
    "print(car.seating_capacity(5))\n"
   ]
  },
  {
   "cell_type": "code",
   "execution_count": 3,
   "id": "6f839ab4-f560-4070-860c-e0ec67927dde",
   "metadata": {},
   "outputs": [
    {
     "name": "stdout",
     "output_type": "stream",
     "text": [
      "Tom says Woof!\n"
     ]
    }
   ],
   "source": [
    "#Question No.- 03 \n",
    "#Ans.- \n",
    "#Multiple inheritance is a feature of some object-oriented programming languages \n",
    "#where a class can inherit attributes and methods from more than one parent class. \n",
    "#In Python, a class can inherit from multiple parent classes, allowing it to combine the features of those classes.\n",
    "#Here's an example Python code demonstrating multiple inheritance:\n",
    "class Animal:\n",
    "    def __init__(self, name):\n",
    "        self.name = name\n",
    "\n",
    "    def speak(self):\n",
    "        raise NotImplementedError(\"Subclass must implement abstract method\")\n",
    "\n",
    "\n",
    "class Dog(Animal):\n",
    "    def speak(self):\n",
    "        return f\"{self.name} says Woof!\"\n",
    "\n",
    "\n",
    "class Cat(Animal):\n",
    "    def speak(self):\n",
    "        return f\"{self.name} says Meow!\"\n",
    "\n",
    "\n",
    "class DogCat(Dog, Cat):\n",
    "    def __init__(self, name):\n",
    "        super().__init__(name)\n",
    "\n",
    "\n",
    "\n",
    "dog_cat = DogCat(\"Tom\")\n",
    "print(dog_cat.speak())  \n"
   ]
  },
  {
   "cell_type": "code",
   "execution_count": 4,
   "id": "36419c0f-707f-4190-8688-653912305d50",
   "metadata": {},
   "outputs": [
    {
     "ename": "AttributeError",
     "evalue": "'MyClass' object has no attribute 'get_my_variable'",
     "output_type": "error",
     "traceback": [
      "\u001b[0;31m---------------------------------------------------------------------------\u001b[0m",
      "\u001b[0;31mAttributeError\u001b[0m                            Traceback (most recent call last)",
      "Cell \u001b[0;32mIn[4], line 22\u001b[0m\n\u001b[1;32m     17\u001b[0m         \u001b[38;5;28mself\u001b[39m\u001b[38;5;241m.\u001b[39m_my_variable \u001b[38;5;241m=\u001b[39m value\n\u001b[1;32m     20\u001b[0m obj \u001b[38;5;241m=\u001b[39m MyClass()\n\u001b[0;32m---> 22\u001b[0m \u001b[38;5;28mprint\u001b[39m(\u001b[43mobj\u001b[49m\u001b[38;5;241;43m.\u001b[39;49m\u001b[43mget_my_variable\u001b[49m())  \n",
      "\u001b[0;31mAttributeError\u001b[0m: 'MyClass' object has no attribute 'get_my_variable'"
     ]
    }
   ],
   "source": [
    "#Question No.-04 \n",
    "#Ans.- \n",
    "#In Python, getter and setter methods are used to access and modify the attributes of a class respectively, \n",
    "#providing controlled access to the class variables.\n",
    "\n",
    "#Here's an example of a Python class with a getter and a setter method:\n",
    "\n",
    "class MyClass:\n",
    "    def __init__(self):\n",
    "        self._my_variable = None  \n",
    "\n",
    "    \n",
    "        return self._my_variable\n",
    "\n",
    "   \n",
    "    def set_my_variable(self, value):\n",
    "        self._my_variable = value\n",
    "\n",
    "\n",
    "obj = MyClass()\n",
    "\n",
    "print(obj.get_my_variable())  \n"
   ]
  },
  {
   "cell_type": "code",
   "execution_count": null,
   "id": "64be5ac0-b45f-4c2c-b5d2-65317acc4d1a",
   "metadata": {},
   "outputs": [],
   "source": [
    "#Question No. -05\n",
    "#Ans.- \n",
    "\n",
    "#Method overriding in Python refers to the ability of a subclass to provide a specific implementation of a method that is already defined in its superclass. \n",
    "#When a method in a subclass has the same name, parameters, and return type as a method in its superclass, \n",
    "#it overrides the superclass method.\n",
    "\n",
    "#Here's an example demonstrating method overriding in Python:\n",
    "class Animal:\n",
    "    def make_sound(self):\n",
    "        print(\"Generic animal sound\")\n",
    "\n",
    "class Dog(Animal):\n",
    "    def make_sound(self):\n",
    "        print(\"Woof woof!\")\n",
    "\n",
    "class Cat(Animal):\n",
    "    def make_sound(self):\n",
    "        print(\"Meow!\")\n",
    "\n",
    "dog = Dog()\n",
    "cat = Cat()\n",
    "\n",
    "dog.make_sound() \n",
    "cat.make_sound() \n"
   ]
  },
  {
   "cell_type": "code",
   "execution_count": null,
   "id": "af143880-addd-4c91-8c7d-206e3cbc0088",
   "metadata": {},
   "outputs": [],
   "source": []
  }
 ],
 "metadata": {
  "kernelspec": {
   "display_name": "Python 3 (ipykernel)",
   "language": "python",
   "name": "python3"
  },
  "language_info": {
   "codemirror_mode": {
    "name": "ipython",
    "version": 3
   },
   "file_extension": ".py",
   "mimetype": "text/x-python",
   "name": "python",
   "nbconvert_exporter": "python",
   "pygments_lexer": "ipython3",
   "version": "3.10.8"
  }
 },
 "nbformat": 4,
 "nbformat_minor": 5
}
