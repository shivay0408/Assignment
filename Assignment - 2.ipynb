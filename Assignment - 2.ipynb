{
 "cells": [
  {
   "cell_type": "code",
   "execution_count": 1,
   "id": "ec815891-efdd-40b6-a6df-bc6d2f02efa6",
   "metadata": {},
   "outputs": [
    {
     "data": {
      "text/plain": [
       "'\\nThis is a multi-line comment.\\nIt spans multiple lines.\\n'"
      ]
     },
     "execution_count": 1,
     "metadata": {},
     "output_type": "execute_result"
    }
   ],
   "source": [
    "##Question No. 01\n",
    "##Ans-\n",
    "\n",
    "#Single-line comments: Use '#' at the beginning of the line to comment a single line.\n",
    "\n",
    "#ex.- \n",
    "# This is a single-line comment\n",
    "\n",
    "#Multi-line comments: Use triple quotes (''' or \"\"\") to create multi-line comments. \n",
    "#Although it's not specifically designed for commenting,it's often used for longer comments or documentation strings.\n",
    "\n",
    "#ex- \n",
    "\n",
    "'''\n",
    "This is a multi-line comment.\n",
    "It spans multiple lines.\n",
    "'''\n",
    "\n"
   ]
  },
  {
   "cell_type": "code",
   "execution_count": 1,
   "id": "dcb5c4f7-0914-4e50-9da5-15e60ad794e7",
   "metadata": {},
   "outputs": [
    {
     "ename": "IndentationError",
     "evalue": "unexpected indent (953283933.py, line 14)",
     "output_type": "error",
     "traceback": [
      "\u001b[0;36m  Cell \u001b[0;32mIn[1], line 14\u001b[0;36m\u001b[0m\n\u001b[0;31m    age = 25\u001b[0m\n\u001b[0m    ^\u001b[0m\n\u001b[0;31mIndentationError\u001b[0m\u001b[0;31m:\u001b[0m unexpected indent\n"
     ]
    }
   ],
   "source": [
    "# Question No. 02\n",
    "#Ans.- \n",
    "\n",
    "# In Python, variables are used to store data values. \n",
    "#You can think of a variable as a container that holds a piece of information, \n",
    "#such as a number, a string, or any other type of data. \n",
    "#Variables in Python are dynamic, meaning that you don't need to explicitly declare their type before assigning a value to them\n",
    "#To declare and assign values to variables in Python, \n",
    "#you simply use the assignment operator ('='). Here's how it's done:\n",
    "# Variable declaration and assignment\n",
    "variable_name = value\n",
    "#For example:\n",
    "             # Declaring and assigning an integer value to a variable\n",
    "               age = 25\n",
    "\n",
    "            # Declaring and assigning a string value to a variable\n",
    "               name = \"John\"\n",
    "\n",
    "           # Declaring and assigning a floating-point value to a variable\n",
    "               salary = 2500.50\n",
    "\n"
   ]
  },
  {
   "cell_type": "code",
   "execution_count": 2,
   "id": "c3309413-d411-4003-a26f-1948ddd16b37",
   "metadata": {},
   "outputs": [
    {
     "ename": "IndentationError",
     "evalue": "unexpected indent (263149744.py, line 8)",
     "output_type": "error",
     "traceback": [
      "\u001b[0;36m  Cell \u001b[0;32mIn[2], line 8\u001b[0;36m\u001b[0m\n\u001b[0;31m    x = 10\u001b[0m\n\u001b[0m    ^\u001b[0m\n\u001b[0;31mIndentationError\u001b[0m\u001b[0;31m:\u001b[0m unexpected indent\n"
     ]
    }
   ],
   "source": [
    "# Question No. 03 \n",
    "# Ans.- \n",
    "       \n",
    "#In Python, you can convert one data type to another using:\n",
    "\n",
    "#Type Casting: Use functions like int(), float(), str(), etc.\n",
    "#ex.- \n",
    "    x = 10\n",
    "    y = float(x)  \n",
    "    z = str(x)    \n",
    "\n",
    "#Implicit Type Conversion: Automatic conversion in certain operations.\n",
    "\n",
    "#format() Method: Converts data types to strings.\n",
    "#ex.- \n",
    "     num = 10\n",
    "     num_str = format(num)  \n",
    "#eval() Function: Evaluates string expressions and converts them.\n",
    "\n",
    "#ex- \n",
    "     num_str = \"10\"\n",
    "     num = eval(num_str) \n"
   ]
  },
  {
   "cell_type": "code",
   "execution_count": 3,
   "id": "03fe6644-45fb-499b-ae3f-6e6761d71a9a",
   "metadata": {},
   "outputs": [
    {
     "ename": "SyntaxError",
     "evalue": "invalid syntax (1069228736.py, line 16)",
     "output_type": "error",
     "traceback": [
      "\u001b[0;36m  Cell \u001b[0;32mIn[3], line 16\u001b[0;36m\u001b[0m\n\u001b[0;31m    python myscript.py\u001b[0m\n\u001b[0m           ^\u001b[0m\n\u001b[0;31mSyntaxError\u001b[0m\u001b[0;31m:\u001b[0m invalid syntax\n"
     ]
    }
   ],
   "source": [
    "#Question No. -04 \n",
    "#ans.- \n",
    "\n",
    "#To write and execute a Python script from the command line, follow these steps:\n",
    "\n",
    "#1.Open a Text Editor: Open a text editor like Notepad, Sublime Text, Visual Studio Code, or any other editor of your choice.\n",
    "\n",
    "#2.Write Your Python Script: Write your Python code in the text editor and save the file with a .py extension. For example, you can create a file named myscript.py.\n",
    "\n",
    "#3.Open Command Prompt (Windows) or Terminal (macOS/Linux): Open the command line interface on your operating system.\n",
    "\n",
    "#4.Navigate to the Directory Containing Your Script: Use the cd command to navigate to the directory where your Python script is located.\n",
    "\n",
    "#5.Execute the Script: Once you're in the correct directory, type python followed by the name of your script file (including the .py extension) and press Enter. For example:##\n",
    "\n",
    "python myscript.py\n",
    "\n",
    "#6. View Output: If your script produces any output, it will be displayed in the command line interface."
   ]
  },
  {
   "cell_type": "code",
   "execution_count": 8,
   "id": "82d75d56-0258-4be6-8c63-21c4aebe628c",
   "metadata": {},
   "outputs": [
    {
     "ename": "IndentationError",
     "evalue": "unindent does not match any outer indentation level (<tokenize>, line 4)",
     "output_type": "error",
     "traceback": [
      "\u001b[0;36m  File \u001b[0;32m<tokenize>:4\u001b[0;36m\u001b[0m\n\u001b[0;31m    M = L[1:3]\u001b[0m\n\u001b[0m    ^\u001b[0m\n\u001b[0;31mIndentationError\u001b[0m\u001b[0;31m:\u001b[0m unindent does not match any outer indentation level\n"
     ]
    }
   ],
   "source": [
    "# Question No.- 05\n",
    "#Ans- \n",
    "      L =[1, 2, 3, 4, 5]\n",
    "     M = L[1:3]\n",
    "    print(M)\n"
   ]
  },
  {
   "cell_type": "code",
   "execution_count": 9,
   "id": "323ebc32-228e-443a-8a14-5d5c7abe1daa",
   "metadata": {},
   "outputs": [
    {
     "ename": "IndentationError",
     "evalue": "unexpected indent (2986586001.py, line 14)",
     "output_type": "error",
     "traceback": [
      "\u001b[0;36m  Cell \u001b[0;32mIn[9], line 14\u001b[0;36m\u001b[0m\n\u001b[0;31m    z = 3 + 4j\u001b[0m\n\u001b[0m    ^\u001b[0m\n\u001b[0;31mIndentationError\u001b[0m\u001b[0;31m:\u001b[0m unexpected indent\n"
     ]
    }
   ],
   "source": [
    "#Question No.- 06\n",
    "#Ans.- \n",
    "      # In mathematics, a complex number is a number that comprises a real part and an imaginary part. \n",
    "    #It is represented in the form:\n",
    "\n",
    "                                      #a+bi\n",
    "\n",
    "#Where:\n",
    "       #  a is the real part,\n",
    "        # b is the imaginary part, and\n",
    "        # i is the imaginary unit, defined as the square root of -1.\n",
    "        \n",
    "        #example- \n",
    "        z = 3 + 4j           \n",
    "        print(z) \n",
    "        real_part = z.real  \n",
    "        imaginary_part = z.imag \n",
    "\n",
    "        "
   ]
  },
  {
   "cell_type": "code",
   "execution_count": 10,
   "id": "f50d431c-f374-4a60-8fa5-802156e66066",
   "metadata": {},
   "outputs": [
    {
     "ename": "IndentationError",
     "evalue": "unexpected indent (3107292675.py, line 4)",
     "output_type": "error",
     "traceback": [
      "\u001b[0;36m  Cell \u001b[0;32mIn[10], line 4\u001b[0;36m\u001b[0m\n\u001b[0;31m    age = 25\u001b[0m\n\u001b[0m    ^\u001b[0m\n\u001b[0;31mIndentationError\u001b[0m\u001b[0;31m:\u001b[0m unexpected indent\n"
     ]
    }
   ],
   "source": [
    "#Question No. 07 \n",
    "#ans.- \n",
    "       #The correct way to declare a variable named age and assign the value \"25\" to it in Python is simply:\n",
    "        age = 25\n",
    "\n",
    "    "
   ]
  },
  {
   "cell_type": "code",
   "execution_count": 11,
   "id": "776c77b4-5985-4144-9233-01c5c1945563",
   "metadata": {},
   "outputs": [
    {
     "ename": "IndentationError",
     "evalue": "unexpected indent (3591299808.py, line 6)",
     "output_type": "error",
     "traceback": [
      "\u001b[0;36m  Cell \u001b[0;32mIn[11], line 6\u001b[0;36m\u001b[0m\n\u001b[0;31m    price = 9.99\u001b[0m\n\u001b[0m    ^\u001b[0m\n\u001b[0;31mIndentationError\u001b[0m\u001b[0;31m:\u001b[0m unexpected indent\n"
     ]
    }
   ],
   "source": [
    "#Question NO.- 08\n",
    "#Ans.- \n",
    "\n",
    "      #To declare a variable named price and assign the value '9.99' to it in Python, you can do the following:\n",
    "    \n",
    "     price = 9.99\n"
   ]
  },
  {
   "cell_type": "code",
   "execution_count": 18,
   "id": "8adb0431-aeb6-4c23-8aed-fab40e80b8f1",
   "metadata": {},
   "outputs": [
    {
     "ename": "IndentationError",
     "evalue": "unexpected indent (2731190159.py, line 3)",
     "output_type": "error",
     "traceback": [
      "\u001b[0;36m  Cell \u001b[0;32mIn[18], line 3\u001b[0;36m\u001b[0m\n\u001b[0;31m    name = \"Shivansh\"\u001b[0m\n\u001b[0m    ^\u001b[0m\n\u001b[0;31mIndentationError\u001b[0m\u001b[0;31m:\u001b[0m unexpected indent\n"
     ]
    }
   ],
   "source": [
    "#Question No.-09\n",
    "#Ans.- \n",
    "       name = \"Shivansh\"\n",
    "         print(name)\n",
    "\n"
   ]
  },
  {
   "cell_type": "code",
   "execution_count": 19,
   "id": "5d83ac06-647e-47da-98f0-515e7e3a6c7b",
   "metadata": {},
   "outputs": [
    {
     "ename": "IndentationError",
     "evalue": "unexpected indent (2362652993.py, line 3)",
     "output_type": "error",
     "traceback": [
      "\u001b[0;36m  Cell \u001b[0;32mIn[19], line 3\u001b[0;36m\u001b[0m\n\u001b[0;31m    my_string = \"Hello, World!\"\u001b[0m\n\u001b[0m    ^\u001b[0m\n\u001b[0;31mIndentationError\u001b[0m\u001b[0;31m:\u001b[0m unexpected indent\n"
     ]
    }
   ],
   "source": [
    "#Question No. 10\n",
    "#Ans.- \n",
    "       my_string = \"Hello, World!\"\n",
    "substring = my_string[7:12]\n",
    "print(substring)\n"
   ]
  },
  {
   "cell_type": "code",
   "execution_count": 20,
   "id": "a5224fdb-649f-4be6-a482-ff4a11a22a7f",
   "metadata": {},
   "outputs": [
    {
     "ename": "IndentationError",
     "evalue": "unexpected indent (1766380807.py, line 3)",
     "output_type": "error",
     "traceback": [
      "\u001b[0;36m  Cell \u001b[0;32mIn[20], line 3\u001b[0;36m\u001b[0m\n\u001b[0;31m    is_student = True\u001b[0m\n\u001b[0m    ^\u001b[0m\n\u001b[0;31mIndentationError\u001b[0m\u001b[0;31m:\u001b[0m unexpected indent\n"
     ]
    }
   ],
   "source": [
    "#Question NO. 11\n",
    "#Ans.- \n",
    "       is_student = True\n"
   ]
  },
  {
   "cell_type": "code",
   "execution_count": null,
   "id": "ab2b1f8b-834c-4160-b73f-c69c88d42936",
   "metadata": {},
   "outputs": [],
   "source": []
  }
 ],
 "metadata": {
  "kernelspec": {
   "display_name": "Python 3 (ipykernel)",
   "language": "python",
   "name": "python3"
  },
  "language_info": {
   "codemirror_mode": {
    "name": "ipython",
    "version": 3
   },
   "file_extension": ".py",
   "mimetype": "text/x-python",
   "name": "python",
   "nbconvert_exporter": "python",
   "pygments_lexer": "ipython3",
   "version": "3.10.8"
  }
 },
 "nbformat": 4,
 "nbformat_minor": 5
}
