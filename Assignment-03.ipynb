{
 "cells": [
  {
   "cell_type": "code",
   "execution_count": 1,
   "id": "e87dc2f6-eb76-40f5-886d-3e82ad5e0732",
   "metadata": {},
   "outputs": [
    {
     "name": "stdout",
     "output_type": "stream",
     "text": [
      "[1, 3, 5, 7, 9, 11, 13, 15, 17, 19, 21, 23, 25]\n"
     ]
    }
   ],
   "source": [
    "#Question No. - 01\n",
    "#Ans.-\n",
    "def odd_numbers():\n",
    "    return [num for num in range(1, 26) if num % 2 != 0]\n",
    "\n",
    "# Call the function and print the result\n",
    "print(odd_numbers())\n"
   ]
  },
  {
   "cell_type": "code",
   "execution_count": 2,
   "id": "4e797156-284c-4fc2-a677-e5d90bcad87a",
   "metadata": {},
   "outputs": [
    {
     "name": "stdout",
     "output_type": "stream",
     "text": [
      "Sum of numbers using *args: 15\n",
      "Printing keyword arguments using **kwargs:\n",
      "name: John\n",
      "age: 30\n",
      "city: New York\n"
     ]
    }
   ],
   "source": [
    "#Question No.- 02 \n",
    "#Ans.- \n",
    "#'*args' and \"**kwargs\" are used in Python functions to accept a variable number of arguments.\n",
    "\n",
    "#*args is used to pass a variable number of positional arguments to a function. It collects any number of positional arguments passed to the function into a tuple.\n",
    "#**kwargs is used to pass a variable number of keyword arguments (or named arguments) to a function. It collects any keyword arguments passed to the function into a dictionary.\n",
    "#Here are examples of functions using *args and **kwargs:\n",
    "\n",
    "def sum_all(*args):\n",
    "    total = 0\n",
    "    for num in args:\n",
    "        total += num\n",
    "    return total\n",
    "\n",
    "\n",
    "def print_kwargs(**kwargs):\n",
    "    for key, value in kwargs.items():\n",
    "        print(f\"{key}: {value}\")\n",
    "\n",
    "\n",
    "print(\"Sum of numbers using *args:\", sum_all(1, 2, 3, 4, 5))\n",
    "\n",
    "\n",
    "print(\"Printing keyword arguments using **kwargs:\")\n",
    "print_kwargs(name=\"John\", age=30, city=\"New York\")\n",
    "\n"
   ]
  },
  {
   "cell_type": "code",
   "execution_count": 3,
   "id": "10baffbf-e776-4955-b355-9352da25d83d",
   "metadata": {},
   "outputs": [
    {
     "name": "stdout",
     "output_type": "stream",
     "text": [
      "First five elements of the list:\n",
      "2\n",
      "4\n",
      "6\n",
      "8\n",
      "10\n"
     ]
    }
   ],
   "source": [
    "#Question No. - 03\n",
    "#Ans.- \n",
    "#In Python, an iterator is an object that allows iteration over a sequence of elements. \n",
    "#It provides a way to access elements of a container (such as a list or a tuple) one by one, without needing to know the internal structure of the container. \n",
    "#Iterators are used extensively in Python to traverse sequences like lists, tuples, dictionaries, and sets.\n",
    "#To initialize an iterator object in Python, you can use the iter() function, and to iterate over the elements of the iterator, you can use the next() method.\n",
    "#Here's how you can use these methods to print the first five elements of the given list [2, 4, 6, 8, 10, 12, 14, 16, 18, 20]:\n",
    "\n",
    "my_list = [2, 4, 6, 8, 10, 12, 14, 16, 18, 20]\n",
    "\n",
    "my_iterator = iter(my_list)\n",
    "\n",
    "print(\"First five elements of the list:\")\n",
    "for _ in range(5):\n",
    "    print(next(my_iterator))\n"
   ]
  },
  {
   "cell_type": "code",
   "execution_count": 4,
   "id": "49f11263-1c93-438e-8a27-0e3562f90d81",
   "metadata": {},
   "outputs": [
    {
     "name": "stdout",
     "output_type": "stream",
     "text": [
      "First 10 Fibonacci numbers:\n",
      "0\n",
      "1\n",
      "1\n",
      "2\n",
      "3\n",
      "5\n",
      "8\n",
      "13\n",
      "21\n",
      "34\n"
     ]
    }
   ],
   "source": [
    "#Question No. - 04\n",
    "#Ans.- \n",
    "#A generator function in Python is a special type of function that allows you to generate a sequence of values lazily. \n",
    "#It uses the yield keyword to yield values one at a time instead of returning them all at once. \n",
    "#This allows for efficient memory usage and lazy evaluation.\n",
    "#Here's an example of a generator function that generates Fibonacci numbers:\n",
    "def fibonacci():\n",
    "    a, b = 0, 1\n",
    "    while True:\n",
    "        yield a\n",
    "        a, b = b, a + b\n",
    "\n",
    "fib_gen = fibonacci()\n",
    "\n",
    "print(\"First 10 Fibonacci numbers:\")\n",
    "for _ in range(10):\n",
    "    print(next(fib_gen))\n",
    "\n",
    "\n",
    "\n",
    "\n",
    "\n",
    "\n"
   ]
  },
  {
   "cell_type": "code",
   "execution_count": 5,
   "id": "53655887-9e13-4022-84d0-8f4e8e97508d",
   "metadata": {},
   "outputs": [
    {
     "name": "stdout",
     "output_type": "stream",
     "text": [
      "First 20 prime numbers:\n",
      "2\n",
      "3\n",
      "5\n",
      "7\n",
      "11\n",
      "13\n",
      "17\n",
      "19\n",
      "23\n",
      "29\n",
      "31\n",
      "37\n",
      "41\n",
      "43\n",
      "47\n",
      "53\n",
      "59\n",
      "61\n",
      "67\n",
      "71\n"
     ]
    }
   ],
   "source": [
    "#Question No.-05\n",
    "#Ans.- \n",
    "def generate_primes():\n",
    "    primes = []\n",
    "    num = 2\n",
    "    while True:\n",
    "        if all(num % prime != 0 for prime in primes):\n",
    "            yield num\n",
    "            primes.append(num)\n",
    "        num += 1\n",
    "\n",
    "prime_gen = generate_primes()\n",
    "\n",
    "print(\"First 20 prime numbers:\")\n",
    "for _ in range(20):\n",
    "    print(next(prime_gen))\n"
   ]
  },
  {
   "cell_type": "code",
   "execution_count": 6,
   "id": "3f71d185-1911-4377-9977-c88140a25a3c",
   "metadata": {},
   "outputs": [
    {
     "name": "stdout",
     "output_type": "stream",
     "text": [
      "First 10 Fibonacci numbers:\n",
      "0\n",
      "1\n",
      "1\n",
      "2\n",
      "3\n",
      "5\n",
      "8\n",
      "13\n",
      "21\n",
      "34\n"
     ]
    }
   ],
   "source": [
    "#Question No. -06 \n",
    "#Ans.- \n",
    "\n",
    "a, b = 0, 1\n",
    "count = 0\n",
    "\n",
    "print(\"First 10 Fibonacci numbers:\")\n",
    "while count < 10:\n",
    "    print(a)\n",
    "    a, b = b, a + b\n",
    "    count += 1\n"
   ]
  },
  {
   "cell_type": "code",
   "execution_count": 7,
   "id": "3d13ee84-714c-47f4-94d1-100a8f7eadec",
   "metadata": {},
   "outputs": [
    {
     "name": "stdout",
     "output_type": "stream",
     "text": [
      "['p', 'w', 's', 'k', 'i', 'l', 'l', 's']\n"
     ]
    }
   ],
   "source": [
    "#Question No. -07 \n",
    "#Ans.- \n",
    "string = 'pwskills'\n",
    "\n",
    "char_list = [char for char in string]\n",
    "\n",
    "print(char_list)\n",
    "\n",
    "#char represents each character in the string 'pwskills'.\n",
    "#for char in string iterates through each character in the string.\n",
    "#[char for char in string] generates a list containing each character in the string.\n",
    "\n",
    "\n",
    "\n",
    "\n",
    "\n"
   ]
  },
  {
   "cell_type": "code",
   "execution_count": null,
   "id": "07cee676-b22e-4e2b-bcb1-5f76981e2bd8",
   "metadata": {},
   "outputs": [],
   "source": [
    "#Question No.-08 \n",
    "#Ans.- \n",
    "def is_palindrome(number):\n",
    "    original_number = number\n",
    "    reverse_number = 0\n",
    "\n",
    "    while number > 0:\n",
    "        digit = number % 10\n",
    "        reverse_number = reverse_number * 10 + digit\n",
    "        number //= 10\n",
    "\n",
    "    if original_number == reverse_number:\n",
    "        return True\n",
    "    else:\n",
    "        return False\n",
    "number = int(input(\"Enter a number: \"))\n",
    "\n",
    "if is_palindrome(number):\n",
    "    print(f\"{number} is a palindrome.\")\n",
    "else:\n",
    "    print(f\"{number} is not a palindrome.\")\n"
   ]
  },
  {
   "cell_type": "code",
   "execution_count": null,
   "id": "e47795b7-b03d-4c35-bec5-3473d6c5a18b",
   "metadata": {},
   "outputs": [],
   "source": [
    "#Question No. - 09 \n",
    "#Ans.- \n",
    "odd_numbers = [num for num in range(1, 101) if num % 2 != 0]\n",
    "\n",
    "print(odd_numbers)\n"
   ]
  }
 ],
 "metadata": {
  "kernelspec": {
   "display_name": "Python 3 (ipykernel)",
   "language": "python",
   "name": "python3"
  },
  "language_info": {
   "codemirror_mode": {
    "name": "ipython",
    "version": 3
   },
   "file_extension": ".py",
   "mimetype": "text/x-python",
   "name": "python",
   "nbconvert_exporter": "python",
   "pygments_lexer": "ipython3",
   "version": "3.10.8"
  }
 },
 "nbformat": 4,
 "nbformat_minor": 5
}
